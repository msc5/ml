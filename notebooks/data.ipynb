{
 "cells": [
  {
   "cell_type": "code",
   "execution_count": 36,
   "metadata": {},
   "outputs": [
    {
     "name": "stdout",
     "output_type": "stream",
     "text": [
      "The autoreload extension is already loaded. To reload it, use:\n",
      "  %reload_ext autoreload\n",
      "/Users/msc/Code/vail\n",
      "/Users/msc/Code/vail\n"
     ]
    }
   ],
   "source": [
    "%load_ext autoreload\n",
    "\n",
    "import os\n",
    "import sys\n",
    "\n",
    "print(os.getcwd())\n",
    "os.chdir(os.path.expanduser('~') + '/Code/vail')\n",
    "print(os.getcwd())"
   ]
  },
  {
   "cell_type": "code",
   "execution_count": 37,
   "metadata": {},
   "outputs": [],
   "source": [
    "%autoreload 2\n",
    "import ml"
   ]
  },
  {
   "cell_type": "code",
   "execution_count": 38,
   "metadata": {},
   "outputs": [
    {
     "data": {
      "text/plain": [
       "<ml.src.data.dataset.OfflineDataset at 0x2b91d05e0>"
      ]
     },
     "execution_count": 38,
     "metadata": {},
     "output_type": "execute_result"
    }
   ],
   "source": [
    "o = ml.Options({'environment': 'walker2d-medium-replay-v2'})\n",
    "d = ml.OfflineDataset(o)\n",
    "d._build()"
   ]
  },
  {
   "cell_type": "code",
   "execution_count": 39,
   "metadata": {},
   "outputs": [],
   "source": [
    "import matplotlib.pyplot as plt\n",
    "import gym\n",
    "import numpy as np\n",
    "import torch\n",
    "import d4rl\n",
    "import random\n",
    "\n",
    "from torchvision.transforms import Resize\n",
    "from torchvision.transforms.functional import crop\n"
   ]
  },
  {
   "cell_type": "code",
   "execution_count": 104,
   "metadata": {},
   "outputs": [
    {
     "name": "stdout",
     "output_type": "stream",
     "text": [
      "tensor([[311.0628],\n",
      "        [309.8250],\n",
      "        [308.5743],\n",
      "        [307.4686],\n",
      "        [306.5278],\n",
      "        [305.6110],\n",
      "        [304.6436],\n",
      "        [303.4924],\n",
      "        [302.2144],\n",
      "        [300.7529]])\n"
     ]
    },
    {
     "data": {
      "image/png": "[encoded data removed]",
      "text/plain": [
       "<Figure size 640x480 with 1 Axes>"
      ]
     },
     "metadata": {},
     "output_type": "display_data"
    }
   ],
   "source": [
    "rand = random.randint(0, len(d.data['frames']))\n",
    "\n",
    "plt.imshow(d.data['frames'][rand].permute(1, 2, 0))\n",
    "print(d.data['V'][rand:rand + 10])"
   ]
  },
  {
   "cell_type": "code",
   "execution_count": 5,
   "metadata": {},
   "outputs": [],
   "source": [
    "with ml.RedirectStream():\n",
    "    env = gym.make(d.environment)"
   ]
  },
  {
   "cell_type": "code",
   "execution_count": 138,
   "metadata": {},
   "outputs": [
    {
     "data": {
      "application/vnd.jupyter.widget-view+json": {
       "model_id": "cb3e93e5693b4fc2b991e9ab13b26b90",
       "version_major": 2,
       "version_minor": 0
      },
      "text/plain": [
       "Output()"
      ]
     },
     "metadata": {},
     "output_type": "display_data"
    },
    {
     "data": {
      "text/html": [
       "<pre style=\"white-space:pre;overflow-x:auto;line-height:normal;font-family:Menlo,'DejaVu Sans Mono',consolas,'Courier New',monospace\"></pre>\n"
      ],
      "text/plain": []
     },
     "metadata": {},
     "output_type": "display_data"
    },
    {
     "data": {
      "text/html": [
       "<pre style=\"white-space:pre;overflow-x:auto;line-height:normal;font-family:Menlo,'DejaVu Sans Mono',consolas,'Courier New',monospace\">\n",
       "</pre>\n"
      ],
      "text/plain": [
       "\n"
      ]
     },
     "metadata": {},
     "output_type": "display_data"
    },
    {
     "name": "stdout",
     "output_type": "stream",
     "text": [
      "torch.Size([3, 64, 64])\n"
     ]
    },
    {
     "data": {
      "text/plain": [
       "<matplotlib.image.AxesImage at 0x168cb69a0>"
      ]
     },
     "execution_count": 138,
     "metadata": {},
     "output_type": "execute_result"
    },
    {
     "data": {
      "image/png": "[encoded data removed]",
      "text/plain": [
       "<Figure size 640x480 with 1 Axes>"
      ]
     },
     "metadata": {},
     "output_type": "display_data"
    }
   ],
   "source": [
    "# size = 32\n",
    "# size = 48\n",
    "# size = 128\n",
    "size = 64\n",
    "\n",
    "# original: [ 256, 256, 3 ]\n",
    "\n",
    "n = 10\n",
    "frames = []\n",
    "\n",
    "resize = Resize((size, size), antialias=True) # type: ignore\n",
    "\n",
    "for i in d._track(range(n), description='Rendering Frames'):\n",
    "\n",
    "    rand = random.randint(0, n)\n",
    "    qp, qv = d.data['QP'][rand], d.data['QV'][rand]\n",
    "    env.set_state(qp, qv)  # type: ignore\n",
    "\n",
    "    height, width = 256, 256\n",
    "    with ml.RedirectStream():\n",
    "        frame = env.sim.render(height, width, camera_name='track', mode='offscreen')  # type: ignore\n",
    "    frame = np.flip(frame, axis=0)\n",
    "    frame = torch.from_numpy(frame.copy())\n",
    "    frame = frame.to(torch.uint8)\n",
    "    frame = frame.permute(2, 0, 1)\n",
    "\n",
    "    frame = crop(frame, top=64, left=64, width=128, height=192)\n",
    "    frame = resize(frame)\n",
    "\n",
    "    frames.append(frame)\n",
    "    \n",
    "print(frames[0].shape)\n",
    "\n",
    "plt.imshow(frames[0].permute(1, 2, 0))"
   ]
  }
 ],
 "metadata": {
  "kernelspec": {
   "display_name": "Python 3",
   "language": "python",
   "name": "python3"
  },
  "language_info": {
   "codemirror_mode": {
    "name": "ipython",
    "version": 3
   },
   "file_extension": ".py",
   "mimetype": "text/x-python",
   "name": "python",
   "nbconvert_exporter": "python",
   "pygments_lexer": "ipython3",
   "version": "3.9.9"
  },
  "orig_nbformat": 4,
  "vscode": {
   "interpreter": {
    "hash": "dce79a887f36d79da79a2ac62b23dd15e1a798b3488338eb16a5afa907a82ac1"
   }
  }
 },
 "nbformat": 4,
 "nbformat_minor": 2
}
