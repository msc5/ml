{
 "cells": [
  {
   "cell_type": "code",
   "execution_count": 1,
   "metadata": {},
   "outputs": [
    {
     "name": "stdout",
     "output_type": "stream",
     "text": [
      "/Users/msc/Code/vail/ml/notebooks\n",
      "/Users/msc/Code/vail\n"
     ]
    }
   ],
   "source": [
    "%load_ext autoreload\n",
    "\n",
    "import os\n",
    "import sys\n",
    "\n",
    "print(os.getcwd())\n",
    "os.chdir(os.path.expanduser('~') + '/Code/vail')\n",
    "print(os.getcwd())"
   ]
  },
  {
   "cell_type": "code",
   "execution_count": 2,
   "metadata": {},
   "outputs": [],
   "source": [
    "%autoreload 2\n",
    "import ml"
   ]
  },
  {
   "cell_type": "code",
   "execution_count": 3,
   "metadata": {},
   "outputs": [
    {
     "data": {
      "application/vnd.jupyter.widget-view+json": {
       "model_id": "b143735e016f4ee8b3df9f636a2b8a5d",
       "version_major": 2,
       "version_minor": 0
      },
      "text/plain": [
       "Output()"
      ]
     },
     "metadata": {},
     "output_type": "display_data"
    },
    {
     "data": {
      "text/html": [
       "<pre style=\"white-space:pre;overflow-x:auto;line-height:normal;font-family:Menlo,'DejaVu Sans Mono',consolas,'Courier New',monospace\"></pre>\n"
      ],
      "text/plain": []
     },
     "metadata": {},
     "output_type": "display_data"
    },
    {
     "data": {
      "text/html": [
       "<pre style=\"white-space:pre;overflow-x:auto;line-height:normal;font-family:Menlo,'DejaVu Sans Mono',consolas,'Courier New',monospace\">\n",
       "</pre>\n"
      ],
      "text/plain": [
       "\n"
      ]
     },
     "metadata": {},
     "output_type": "display_data"
    },
    {
     "data": {
      "application/vnd.jupyter.widget-view+json": {
       "model_id": "5d99d40bd5eb4c0a90cc37f57811cd5c",
       "version_major": 2,
       "version_minor": 0
      },
      "text/plain": [
       "Output()"
      ]
     },
     "metadata": {},
     "output_type": "display_data"
    },
    {
     "data": {
      "text/html": [
       "<pre style=\"white-space:pre;overflow-x:auto;line-height:normal;font-family:Menlo,'DejaVu Sans Mono',consolas,'Courier New',monospace\"></pre>\n"
      ],
      "text/plain": []
     },
     "metadata": {},
     "output_type": "display_data"
    },
    {
     "data": {
      "text/html": [
       "<pre style=\"white-space:pre;overflow-x:auto;line-height:normal;font-family:Menlo,'DejaVu Sans Mono',consolas,'Courier New',monospace\">\n",
       "</pre>\n"
      ],
      "text/plain": [
       "\n"
      ]
     },
     "metadata": {},
     "output_type": "display_data"
    },
    {
     "data": {
      "text/plain": [
       "<ml.src.data.dataset.OfflineDataset at 0x107f2ed30>"
      ]
     },
     "execution_count": 3,
     "metadata": {},
     "output_type": "execute_result"
    }
   ],
   "source": [
    "o = ml.Options({'environment': 'walker2d-medium-replay-v2'})\n",
    "d = ml.OfflineDataset(o)\n",
    "d._build()"
   ]
  },
  {
   "cell_type": "code",
   "execution_count": 55,
   "metadata": {},
   "outputs": [],
   "source": [
    "import matplotlib.pyplot as plt\n",
    "import gym\n",
    "import numpy as np\n",
    "import torch\n",
    "import d4rl\n",
    "import random\n",
    "\n",
    "from torchvision.transforms.functional import crop, resize\n",
    "from einops import rearrange\n",
    "\n",
    "from mpl_toolkits.axes_grid1 import ImageGrid\n",
    "import numpy as np\n",
    "\n"
   ]
  },
  {
   "cell_type": "code",
   "execution_count": 5,
   "metadata": {},
   "outputs": [
    {
     "ename": "AttributeError",
     "evalue": "'OfflineDataset' object has no attribute 'data'",
     "output_type": "error",
     "traceback": [
      "\u001b[0;31m---------------------------------------------------------------------------\u001b[0m",
      "\u001b[0;31mAttributeError\u001b[0m                            Traceback (most recent call last)",
      "Cell \u001b[0;32mIn[5], line 1\u001b[0m\n\u001b[0;32m----> 1\u001b[0m rand \u001b[39m=\u001b[39m random\u001b[39m.\u001b[39mrandint(\u001b[39m0\u001b[39m, \u001b[39mlen\u001b[39m(d\u001b[39m.\u001b[39;49mdata[\u001b[39m'\u001b[39m\u001b[39mframes\u001b[39m\u001b[39m'\u001b[39m]))\n\u001b[1;32m      3\u001b[0m plt\u001b[39m.\u001b[39mimshow(d\u001b[39m.\u001b[39mdata[\u001b[39m'\u001b[39m\u001b[39mframes\u001b[39m\u001b[39m'\u001b[39m][rand]\u001b[39m.\u001b[39mpermute(\u001b[39m1\u001b[39m, \u001b[39m2\u001b[39m, \u001b[39m0\u001b[39m))\n\u001b[1;32m      4\u001b[0m \u001b[39mprint\u001b[39m(d\u001b[39m.\u001b[39mdata[\u001b[39m'\u001b[39m\u001b[39mV\u001b[39m\u001b[39m'\u001b[39m][rand:rand \u001b[39m+\u001b[39m \u001b[39m10\u001b[39m])\n",
      "\u001b[0;31mAttributeError\u001b[0m: 'OfflineDataset' object has no attribute 'data'"
     ]
    }
   ],
   "source": [
    "rand = random.randint(0, len(d.data['frames']))\n",
    "\n",
    "plt.imshow(d.data['frames'][rand].permute(1, 2, 0))\n",
    "print(d.data['V'][rand:rand + 10])"
   ]
  },
  {
   "cell_type": "code",
   "execution_count": 6,
   "metadata": {},
   "outputs": [],
   "source": [
    "with ml.RedirectStream():\n",
    "    env = gym.make(d.environment)"
   ]
  },
  {
   "cell_type": "code",
   "execution_count": 63,
   "metadata": {},
   "outputs": [
    {
     "name": "stdout",
     "output_type": "stream",
     "text": [
      "torch.Size([3, 32, 32])\n"
     ]
    },
    {
     "data": {
      "text/plain": [
       "<matplotlib.image.AxesImage at 0x29e3b9940>"
      ]
     },
     "execution_count": 63,
     "metadata": {},
     "output_type": "execute_result"
    },
    {
     "data": {
      "image/png": "[encoded data removed]",
      "text/plain": [
       "<Figure size 640x480 with 1 Axes>"
      ]
     },
     "metadata": {},
     "output_type": "display_data"
    }
   ],
   "source": [
    "size = 32\n",
    "\n",
    "# original: [ 256, 256, 3 ]\n",
    "\n",
    "n = 10\n",
    "frames = []\n",
    "\n",
    "def get_image():\n",
    "\n",
    "    rand = random.randint(0, n)\n",
    "    qp, qv = d.QP[rand], d.QV[rand]\n",
    "    env.set_state(qp, qv)  # type: ignore\n",
    "\n",
    "    height, width = 256, 256\n",
    "    with ml.RedirectStream():\n",
    "        frame = env.sim.render(height, width, camera_name='track', mode='offscreen')  # type: ignore\n",
    "    frame = np.flip(frame, axis=0)\n",
    "    frame = torch.from_numpy(frame.copy())\n",
    "    frame = frame.to(torch.uint8)\n",
    "    frame = frame.permute(2, 0, 1)\n",
    "    frame = crop(frame, top=64, left=64, width=128, height=192)\n",
    "    frame = resize(frame, (size, size), antialias=True)\n",
    "\n",
    "    return frame\n",
    "    \n",
    "frame = get_image()\n",
    "print(frame.shape)\n",
    "plt.imshow(frame.permute(1, 2, 0))"
   ]
  },
  {
   "cell_type": "code",
   "execution_count": 77,
   "metadata": {},
   "outputs": [
    {
     "name": "stdout",
     "output_type": "stream",
     "text": [
      "torch.Size([4, 4, 8, 8, 3])\n"
     ]
    },
    {
     "data": {
      "image/png": "[encoded data removed]",
      "text/plain": [
       "<Figure size 400x400 with 32 Axes>"
      ]
     },
     "metadata": {},
     "output_type": "display_data"
    }
   ],
   "source": [
    "\n",
    "patch_size = 8\n",
    "img = get_image()\n",
    "\n",
    "img = rearrange(img, 'c (h ph) (w pw) -> h w ph pw c', ph=patch_size, pw=patch_size)\n",
    "\n",
    "print(img.shape)\n",
    "h, w, _, _, c = img.shape\n",
    "\n",
    "fig = plt.figure(figsize=(4., 4.))\n",
    "grid = ImageGrid(fig, 111,  # similar to subplot(111)\n",
    "                 nrows_ncols=(h, w),  # creates 2x2 grid of axes\n",
    "                 axes_pad=0.05,  # pad between axes in inch.\n",
    "                 )\n",
    "\n",
    "for i in range(h):\n",
    "    for j in range(w):\n",
    "        g = grid.axes_row[i][j]\n",
    "        g.imshow(img[i, j])\n",
    "        g.axis('off')\n",
    "\n",
    "plt.show()"
   ]
  }
 ],
 "metadata": {
  "kernelspec": {
   "display_name": "Python 3.9.9 64-bit ('3.9.9')",
   "language": "python",
   "name": "python3"
  },
  "language_info": {
   "codemirror_mode": {
    "name": "ipython",
    "version": 3
   },
   "file_extension": ".py",
   "mimetype": "text/x-python",
   "name": "python",
   "nbconvert_exporter": "python",
   "pygments_lexer": "ipython3",
   "version": "3.9.9"
  },
  "orig_nbformat": 4,
  "vscode": {
   "interpreter": {
    "hash": "a72aae90cef4827b2d57bfc75210676744499c20d51892216fa950c114b6a3e6"
   }
  }
 },
 "nbformat": 4,
 "nbformat_minor": 2
}
