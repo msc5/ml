{
 "cells": [
  {
   "cell_type": "code",
   "execution_count": 1,
   "metadata": {},
   "outputs": [
    {
     "name": "stdout",
     "output_type": "stream",
     "text": [
      "/Users/msc/Code/vail/ml/notebooks\n",
      "/Users/msc/Code/vail\n"
     ]
    }
   ],
   "source": [
    "%load_ext autoreload\n",
    "%matplotlib inline\n",
    "\n",
    "import os\n",
    "import sys\n",
    "\n",
    "print(os.getcwd())\n",
    "os.chdir(os.path.expanduser('~') + '/Code/vail')\n",
    "print(os.getcwd())"
   ]
  },
  {
   "cell_type": "code",
   "execution_count": 2,
   "metadata": {},
   "outputs": [],
   "source": [
    "%autoreload 2\n",
    "import ml"
   ]
  },
  {
   "cell_type": "code",
   "execution_count": 97,
   "metadata": {},
   "outputs": [
    {
     "name": "stdout",
     "output_type": "stream",
     "text": [
      "Downloading dataset: http://rail.eecs.berkeley.edu/datasets/offline_rl/gym_mujoco_v2/halfcheetah_medium_expert-v2.hdf5 to /Users/msc/.d4rl/datasets/halfcheetah_medium_expert-v2.hdf5\n"
     ]
    },
    {
     "name": "stderr",
     "output_type": "stream",
     "text": [
      "load datafile: 100%|██████████| 9/9 [00:05<00:00,  1.52it/s]\n"
     ]
    },
    {
     "data": {
      "application/vnd.jupyter.widget-view+json": {
       "model_id": "dd2f2c0041ec4571be94feb8dfacb8a2",
       "version_major": 2,
       "version_minor": 0
      },
      "text/plain": [
       "Output()"
      ]
     },
     "metadata": {},
     "output_type": "display_data"
    },
    {
     "data": {
      "text/html": [
       "<pre style=\"white-space:pre;overflow-x:auto;line-height:normal;font-family:Menlo,'DejaVu Sans Mono',consolas,'Courier New',monospace\"></pre>\n"
      ],
      "text/plain": []
     },
     "metadata": {},
     "output_type": "display_data"
    },
    {
     "data": {
      "text/html": [
       "<pre style=\"white-space:pre;overflow-x:auto;line-height:normal;font-family:Menlo,'DejaVu Sans Mono',consolas,'Courier New',monospace\">\n",
       "</pre>\n"
      ],
      "text/plain": [
       "\n"
      ]
     },
     "metadata": {},
     "output_type": "display_data"
    },
    {
     "data": {
      "application/vnd.jupyter.widget-view+json": {
       "model_id": "865ee157dc2a47f8a0b92738778438dd",
       "version_major": 2,
       "version_minor": 0
      },
      "text/plain": [
       "Output()"
      ]
     },
     "metadata": {},
     "output_type": "display_data"
    },
    {
     "data": {
      "text/html": [
       "<pre style=\"white-space:pre;overflow-x:auto;line-height:normal;font-family:Menlo,'DejaVu Sans Mono',consolas,'Courier New',monospace\"></pre>\n"
      ],
      "text/plain": []
     },
     "metadata": {},
     "output_type": "display_data"
    },
    {
     "data": {
      "text/html": [
       "<pre style=\"white-space:pre;overflow-x:auto;line-height:normal;font-family:Menlo,'DejaVu Sans Mono',consolas,'Courier New',monospace\">\n",
       "</pre>\n"
      ],
      "text/plain": [
       "\n"
      ]
     },
     "metadata": {},
     "output_type": "display_data"
    },
    {
     "data": {
      "text/plain": [
       "<ml.src.data.dataset.OfflineDataset at 0x28d9db6a0>"
      ]
     },
     "execution_count": 97,
     "metadata": {},
     "output_type": "execute_result"
    }
   ],
   "source": [
    "# o = ml.Options({'environment': 'walker2d-medium-expert-v2'})\n",
    "# o = ml.Options({'environment': 'hopper-medium-expert-v2'})\n",
    "o = ml.Options({'environment': 'halfcheetah-medium-expert-v2'})\n",
    "d = ml.OfflineDataset(o)\n",
    "d._build()"
   ]
  },
  {
   "cell_type": "code",
   "execution_count": 27,
   "metadata": {},
   "outputs": [],
   "source": [
    "import matplotlib.pyplot as plt\n",
    "import gym\n",
    "import numpy as np\n",
    "import torch\n",
    "import d4rl\n",
    "import random\n",
    "\n",
    "from torchvision.transforms.functional import crop, resize\n",
    "from einops import rearrange\n",
    "\n",
    "from mpl_toolkits.axes_grid1 import ImageGrid\n",
    "import matplotlib as mpl\n",
    "import numpy as np\n",
    "\n",
    "import imageio\n",
    "\n",
    "mpl.use('qtagg')\n"
   ]
  },
  {
   "cell_type": "code",
   "execution_count": 99,
   "metadata": {},
   "outputs": [],
   "source": [
    "# env = gym.make('Walker2d-v2')\n",
    "# env = gym.make('Hopper-v2')\n",
    "env = gym.make('HalfCheetah-v2')"
   ]
  },
  {
   "cell_type": "code",
   "execution_count": 105,
   "metadata": {},
   "outputs": [
    {
     "name": "stdout",
     "output_type": "stream",
     "text": [
      "torch.Size([3, 256, 256])\n"
     ]
    }
   ],
   "source": [
    "render_size = 256\n",
    "size = 32\n",
    "\n",
    "n = 10\n",
    "frames = []\n",
    "\n",
    "def get_image():\n",
    "\n",
    "    rand = random.randint(0, len(d.QP))\n",
    "    qp, qv = d.QP[rand], d.QV[rand]\n",
    "    env.set_state(qp, qv)  # type: ignore\n",
    "\n",
    "    with ml.RedirectStream():\n",
    "        frame = env.sim.render(render_size, render_size, camera_name='track', mode='offscreen')  # type: ignore\n",
    "    frame = np.flip(frame, axis=0)\n",
    "    frame = torch.from_numpy(frame.copy())\n",
    "    frame = frame.to(torch.uint8)\n",
    "    frame = frame.permute(2, 0, 1)\n",
    "\n",
    "    # frame = crop(frame, top=64, left=64, width=128, height=192)\n",
    "    # frame = resize(frame, (size, size), antialias=True)\n",
    "\n",
    "    return frame\n",
    "    \n",
    "frame = get_image()\n",
    "print(frame.shape)\n",
    "# plt.imshow(frame.permute(1, 2, 0))\n",
    "# plt.show()\n",
    "\n",
    "imageio.imwrite('still.png', frame.permute(1, 2, 0))"
   ]
  },
  {
   "cell_type": "code",
   "execution_count": null,
   "metadata": {},
   "outputs": [],
   "source": [
    "\n",
    "patch_size = 32\n",
    "img = get_image()\n",
    "\n",
    "img = rearrange(img, 'c (h ph) (w pw) -> h w ph pw c', ph=patch_size, pw=patch_size)\n",
    "\n",
    "print(img.shape)\n",
    "h, w, _, _, c = img.shape\n",
    "\n",
    "fig = plt.figure(figsize=(4., 4.))\n",
    "grid = ImageGrid(fig, 111,  # similar to subplot(111)\n",
    "                 nrows_ncols=(h, w),  # creates 2x2 grid of axes\n",
    "                 axes_pad=0.05,  # pad between axes in inch.\n",
    "                 )\n",
    "\n",
    "for i in range(h):\n",
    "    for j in range(w):\n",
    "        g = grid.axes_row[i][j]\n",
    "        g.imshow(img[i, j])\n",
    "        g.axis('off')\n",
    "\n",
    "plt.show()"
   ]
  }
 ],
 "metadata": {
  "kernelspec": {
   "display_name": "Python 3.9.9 64-bit ('3.9.9')",
   "language": "python",
   "name": "python3"
  },
  "language_info": {
   "codemirror_mode": {
    "name": "ipython",
    "version": 3
   },
   "file_extension": ".py",
   "mimetype": "text/x-python",
   "name": "python",
   "nbconvert_exporter": "python",
   "pygments_lexer": "ipython3",
   "version": "3.9.9"
  },
  "orig_nbformat": 4,
  "vscode": {
   "interpreter": {
    "hash": "a72aae90cef4827b2d57bfc75210676744499c20d51892216fa950c114b6a3e6"
   }
  }
 },
 "nbformat": 4,
 "nbformat_minor": 2
}
