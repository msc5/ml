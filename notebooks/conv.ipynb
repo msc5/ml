{
 "cells": [
  {
   "cell_type": "code",
   "execution_count": 3,
   "metadata": {},
   "outputs": [
    {
     "name": "stdout",
     "output_type": "stream",
     "text": [
      "The autoreload extension is already loaded. To reload it, use:\n",
      "  %reload_ext autoreload\n",
      "/home/msc5/Code/vail\n",
      "/home/msc5/Code/navigator\n"
     ]
    }
   ],
   "source": [
    "%load_ext autoreload\n",
    "\n",
    "import os\n",
    "import sys\n",
    "\n",
    "print(os.getcwd())\n",
    "os.chdir(os.path.expanduser('~') + '/Code/navigator')\n",
    "print(os.getcwd())"
   ]
  },
  {
   "cell_type": "code",
   "execution_count": 5,
   "metadata": {},
   "outputs": [],
   "source": [
    "import rich\n",
    "from rich import print"
   ]
  },
  {
   "cell_type": "code",
   "execution_count": 17,
   "metadata": {},
   "outputs": [
    {
     "name": "stdout",
     "output_type": "stream",
     "text": [
      "        64\n",
      "        64 -> 32.0      \n",
      "      32.0 -> 16.0      \n",
      "      16.0 -> 8.0       \n",
      "       8.0 -> 4.0       \n",
      "       4.0 -> 2.0       \n",
      "       2.0\n"
     ]
    }
   ],
   "source": [
    "w = 64\n",
    "k, p, s = 4, 1, 2\n",
    "\n",
    "print(f'{w:10}')\n",
    "for i in range(5):\n",
    "\n",
    "    w_new = (w - k + 2 * p) / s + 1\n",
    "    print(f'{w:10}' + ' -> ' +  f'{w_new:<10}')\n",
    "\n",
    "    w = w_new\n",
    "\n",
    "print(f'{w:10}')"
   ]
  },
  {
   "cell_type": "code",
   "execution_count": 20,
   "metadata": {},
   "outputs": [],
   "source": [
    "import torch\n",
    "import torch.nn as nn"
   ]
  },
  {
   "cell_type": "code",
   "execution_count": 24,
   "metadata": {},
   "outputs": [],
   "source": [
    "downsample = nn.MaxPool2d(kernel_size=2, return_indices=True)\n",
    "upsample = nn.MaxUnpool2d(kernel_size=2)"
   ]
  },
  {
   "cell_type": "code",
   "execution_count": 30,
   "metadata": {},
   "outputs": [
    {
     "name": "stdout",
     "output_type": "stream",
     "text": [
      "torch.Size([1, 6, 6])\n",
      "tensor([[[0.0336, 0.4048, 0.1990, 0.4420, 0.0704, 0.9134],\n",
      "         [0.3580, 0.0109, 0.7080, 0.7172, 0.7603, 0.1848],\n",
      "         [0.7721, 0.8582, 0.7825, 0.5146, 0.4150, 0.4272],\n",
      "         [0.9890, 0.1025, 0.9370, 0.3434, 0.9760, 0.5619],\n",
      "         [0.2979, 0.8892, 0.8951, 0.8819, 0.7339, 0.7095],\n",
      "         [0.4450, 0.1156, 0.9953, 0.4458, 0.5938, 0.8512]]])\n",
      "torch.Size([1, 3, 3])\n",
      "tensor([[[0.4048, 0.7172, 0.9134],\n",
      "         [0.9890, 0.9370, 0.9760],\n",
      "         [0.8892, 0.9953, 0.8512]]])\n",
      "torch.Size([1, 6, 6])\n",
      "tensor([[[0.0000, 0.4048, 0.0000, 0.0000, 0.0000, 0.9134],\n",
      "         [0.0000, 0.0000, 0.0000, 0.7172, 0.0000, 0.0000],\n",
      "         [0.0000, 0.0000, 0.0000, 0.0000, 0.0000, 0.0000],\n",
      "         [0.9890, 0.0000, 0.9370, 0.0000, 0.9760, 0.0000],\n",
      "         [0.0000, 0.8892, 0.0000, 0.0000, 0.0000, 0.0000],\n",
      "         [0.0000, 0.0000, 0.9953, 0.0000, 0.0000, 0.8512]]])\n"
     ]
    }
   ],
   "source": [
    "x = torch.rand(1, 6, 6)\n",
    "y, indices = downsample(x)\n",
    "z = upsample(y, indices)\n",
    "\n",
    "print(x.shape)\n",
    "print(x)\n",
    "\n",
    "print(y.shape)\n",
    "print(y)\n",
    "\n",
    "print(z.shape)\n",
    "print(z)"
   ]
  }
 ],
 "metadata": {
  "kernelspec": {
   "display_name": "Python 3.9.9 64-bit ('3.9.9')",
   "language": "python",
   "name": "python3"
  },
  "language_info": {
   "codemirror_mode": {
    "name": "ipython",
    "version": 3
   },
   "file_extension": ".py",
   "mimetype": "text/x-python",
   "name": "python",
   "nbconvert_exporter": "python",
   "pygments_lexer": "ipython3",
   "version": "3.9.9"
  },
  "orig_nbformat": 4,
  "vscode": {
   "interpreter": {
    "hash": "a72aae90cef4827b2d57bfc75210676744499c20d51892216fa950c114b6a3e6"
   }
  }
 },
 "nbformat": 4,
 "nbformat_minor": 2
}
